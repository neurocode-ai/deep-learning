{
 "cells": [
  {
   "cell_type": "markdown",
   "id": "41d9695a",
   "metadata": {},
   "source": [
    "# Gradients, a work in progress...\n",
    "---\n",
    "This notebook will in detail go through the most essential operators and their forward/backward pass respectively.\n",
    "\n",
    "### Add\n",
    "$f(x, y) = x + y$<br>\n",
    "$\\frac{\\partial f}{\\partial x} = 1$<br>\n",
    "$\\frac{\\partial f}{\\partial y} = 1$\n",
    "\n",
    "### Sub\n",
    "$f(x, y) = x - y$<br>\n",
    "$\\frac{\\partial f}{\\partial x} = 1$<br>\n",
    "$\\frac{\\partial f}{\\partial y} = -1$\n",
    "\n",
    "### Mean\n",
    "Assuming that we take the mean over the entire ndarray $x$,<br>\n",
    "$f(x) = \\frac{1}{N}\\sum_i x_i$<br>\n",
    "$\\frac{\\partial f}{\\partial x} = \\frac{1}{N}(1_1 + \\cdots + 1_N)$<br>\n",
    "\n",
    "Now, lets assume that $x$ is n-dimensional, with varying number of elements for each dimension, and that we want to take the mean over some specifix axis, lets denote the product of the input shape and output shape as $\\alpha$ and $\\beta$ respectively, then<br>\n",
    "$f(x) = \\frac{\\alpha}{\\beta} \\sum_i^\\alpha x_i$<br>\n",
    "$\\frac{\\partial f}{\\partial x} = \\frac{\\alpha}{\\beta}(1_1 + \\cdots + 1_\\alpha)$\n",
    "\n",
    "### Sum\n",
    "Once again, lets assume that we summarize the full ndarray $x$,<br>\n",
    "$f(x) = \\sum_i x_i$<br>\n",
    "$\\frac{\\partial f}{\\partial x} = 1 + \\cdots + 1$\n",
    "\n",
    "### Log\n",
    "$f(x) = log(x)$<br>\n",
    "$\\frac{\\partial f}{\\partial x} = \\frac{1}{x}$\n",
    "\n",
    "### Exp\n",
    "$f(x) = e^x$<br>\n",
    "$\\frac{\\partial f}{\\partial x} = e^x$\n"
   ]
  },
  {
   "cell_type": "code",
   "execution_count": null,
   "id": "c65b0b07",
   "metadata": {},
   "outputs": [],
   "source": []
  }
 ],
 "metadata": {
  "kernelspec": {
   "display_name": "Python 3 (ipykernel)",
   "language": "python",
   "name": "python3"
  },
  "language_info": {
   "codemirror_mode": {
    "name": "ipython",
    "version": 3
   },
   "file_extension": ".py",
   "mimetype": "text/x-python",
   "name": "python",
   "nbconvert_exporter": "python",
   "pygments_lexer": "ipython3",
   "version": "3.9.7"
  }
 },
 "nbformat": 4,
 "nbformat_minor": 5
}
