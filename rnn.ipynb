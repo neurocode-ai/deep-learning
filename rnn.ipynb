{
 "cells": [
  {
   "cell_type": "code",
   "execution_count": 83,
   "id": "d4da1ed6",
   "metadata": {},
   "outputs": [
    {
     "name": "stdout",
     "output_type": "stream",
     "text": [
      "tensor([[[ 0.0586,  0.0328,  0.1944],\n",
      "         [ 0.1246, -0.0483,  0.3200],\n",
      "         [ 0.0925, -0.0567,  0.2099],\n",
      "         [ 0.2293, -0.0622,  0.3411],\n",
      "         [ 0.2669, -0.0550,  0.4358]]], grad_fn=<TransposeBackward0>)\n",
      "tensor([[[ 0.2669, -0.0550,  0.4358]]], grad_fn=<StackBackward0>)\n",
      "tensor([[[ 0.7132, -0.2131,  0.9159]]], grad_fn=<StackBackward0>)\n"
     ]
    }
   ],
   "source": [
    "import torch\n",
    "import torch.nn as nn\n",
    "import numpy as np\n",
    "torch.manual_seed(1)\n",
    "\n",
    "# We have 5 items with length of 3, batchsize=1\n",
    "x = torch.randn(1, 5, 3)\n",
    "rnn = nn.LSTM(3, 3, 1, batch_first=True)\n",
    "\n",
    "w_ih, w_hh, b_ih, b_hh = list(rnn.parameters())\n",
    "#print(w_ih)  # W_ii, W_if, W_ig, W_io\n",
    "#print(w_hh)  # W_hi, W_hf, W_hg, W_ho\n",
    "#print(b_ih)  # b_ii, b_if, b_ig, b_io\n",
    "#print(b_hh)  # b_hi, b_hf, b_hg, b_ho\n",
    "out, (hn, cn) = rnn(x)\n",
    "print(out)\n",
    "print(hn)\n",
    "print(cn)"
   ]
  },
  {
   "cell_type": "code",
   "execution_count": 85,
   "id": "897a961f",
   "metadata": {},
   "outputs": [
    {
     "data": {
      "text/plain": [
       "(tensor([[[[ 0.0586,  0.0328,  0.1944]]],\n",
       " \n",
       " \n",
       "         [[[ 0.1246, -0.0483,  0.3200]]],\n",
       " \n",
       " \n",
       "         [[[ 0.0925, -0.0567,  0.2099]]],\n",
       " \n",
       " \n",
       "         [[[ 0.2293, -0.0622,  0.3411]]],\n",
       " \n",
       " \n",
       "         [[[ 0.2669, -0.0550,  0.4358]]]], grad_fn=<StackBackward0>),\n",
       " (tensor([[ 0.2669, -0.0550,  0.4358]], grad_fn=<MulBackward0>),\n",
       "  tensor([[ 0.7132, -0.2131,  0.9159]], grad_fn=<AddBackward0>)))"
      ]
     },
     "execution_count": 85,
     "metadata": {},
     "output_type": "execute_result"
    }
   ],
   "source": [
    "import leaf\n",
    "\n",
    "# forget gate\n",
    "# f = sigmoid(Uf*x + Vf*h + bf)\n",
    "\n",
    "# input gate\n",
    "# i = sigmoid(Ui*x + Vi*h + bi)\n",
    "\n",
    "# output gate\n",
    "# o = sigmoid(Uo*x + Vo*h + bo)\n",
    "\n",
    "# candidate C\n",
    "# g = tanh(Ug*x + Vg*h + bg)\n",
    "\n",
    "# c_t = f * c_t-1 + i * g\n",
    "\n",
    "# or optimized\n",
    "# A = U*x + V*h + b\n",
    "# \n",
    "# https://towardsdatascience.com/building-a-lstm-by-hand-on-pytorch-59c02a4ec091\n",
    "\n",
    "class MyLSTM(nn.Module):\n",
    "    def __init__(self, input_size, hidden_size):\n",
    "        super(MyLSTM, self).__init__()\n",
    "        self.input_size = input_size\n",
    "        self.hidden_size = hidden_size\n",
    "        self.U = nn.Parameter(w_ih.detach())\n",
    "        self.V = nn.Parameter(w_hh.detach())\n",
    "        self.bih = nn.Parameter(b_ih.detach())\n",
    "        self.bhh = nn.Parameter(b_hh.detach())\n",
    "    \n",
    "    def forward(self, x):\n",
    "        bs, seq_size, _ = x.size()\n",
    "        hidden_seq = []\n",
    "        \n",
    "        h_t, c_t = (torch.zeros(bs, self.hidden_size),\n",
    "                        torch.zeros(bs, self.hidden_size))\n",
    "        \n",
    "        HS = self.hidden_size\n",
    "        for t in range(seq_size):\n",
    "            x_t = x[:, t, :]\n",
    "            gates = x_t @ self.U.T + h_t @ self.V.T + self.bih + self.bhh\n",
    "            \n",
    "            i_t, f_t, g_t, o_t = torch.split(gates, 3, dim=1)\n",
    "            i_t = torch.sigmoid(i_t)\n",
    "            f_t = torch.sigmoid(f_t)\n",
    "            g_t = torch.tanh(g_t)\n",
    "            o_t = torch.sigmoid(o_t)\n",
    "            c_t = f_t * c_t + i_t * g_t\n",
    "            h_t = o_t * torch.tanh(c_t)\n",
    "            hidden_seq.append(h_t.unsqueeze(0))\n",
    "        hidden_seq = torch.cat(hidden_seq, dim=0)\n",
    "        return hidden_seq, (h_t, c_t)\n",
    "\n",
    "model = MyLSTM(3, 3)\n",
    "model(x)\n",
    "            \n",
    "                "
   ]
  },
  {
   "cell_type": "code",
   "execution_count": null,
   "id": "ef08b506",
   "metadata": {},
   "outputs": [],
   "source": []
  }
 ],
 "metadata": {
  "kernelspec": {
   "display_name": "Python 3 (ipykernel)",
   "language": "python",
   "name": "python3"
  },
  "language_info": {
   "codemirror_mode": {
    "name": "ipython",
    "version": 3
   },
   "file_extension": ".py",
   "mimetype": "text/x-python",
   "name": "python",
   "nbconvert_exporter": "python",
   "pygments_lexer": "ipython3",
   "version": "3.9.7"
  }
 },
 "nbformat": 4,
 "nbformat_minor": 5
}
